{
 "cells": [
  {
   "cell_type": "code",
   "execution_count": 1,
   "metadata": {},
   "outputs": [],
   "source": [
    "import pandas as pd\n",
    "import plotly.express as px\n",
    "from plotly.subplots import make_subplots\n",
    "import plotly.graph_objects as go\n",
    "import numpy as np\n",
    "\n",
    "from sklearn.preprocessing import LabelEncoder"
   ]
  },
  {
   "attachments": {},
   "cell_type": "markdown",
   "metadata": {},
   "source": [
    "### Datasets"
   ]
  },
  {
   "cell_type": "code",
   "execution_count": 2,
   "metadata": {},
   "outputs": [],
   "source": [
    "apartamentos_2out22 = pd.read_excel('imovirtual_02OUT2022(apartamentos).xlsx')\n",
    "apartamentos_2out22 = apartamentos_2out22.set_index('ID')\n",
    "moradias_2out22 = pd.read_excel('imovirtual_02OUT2022(moradias).xlsx')\n",
    "moradias_2out22 = moradias_2out22.set_index('ID')\n",
    "quintas_herdades_2out22 = pd.read_excel('imovirtual_02OUT2022(quintas e herdades).xlsx')\n",
    "quintas_herdades_2out22 = quintas_herdades_2out22.set_index('ID')\n",
    "\n",
    "moradias_5nov22 = pd.read_excel('imovirtual_05NOV2022(moradias).xlsx')\n",
    "moradias_5nov22 = moradias_5nov22.set_index('ID')\n",
    "quintas_herdades_5nov22 = pd.read_excel('imovirtual_05NOV2022(Quintas e Herdades).xlsx')\n",
    "quintas_herdades_5nov22 = quintas_herdades_5nov22.set_index('ID')\n",
    "\n",
    "moradias_18mar23 = pd.read_csv('imovirtual_18MAR2023(moradias).csv', delimiter=';')\n",
    "moradias_18mar23 = moradias_18mar23.set_index('Unnamed: 0')\n",
    "apartamentos_18mar23 = pd.read_csv('imovirtual_18MAR2023(apartamentos).csv', delimiter=';')\n",
    "apartamentos_18mar23 = apartamentos_18mar23.set_index('Unnamed: 0')\n",
    "quintas_herdades_18mar23 = pd.read_csv('imovirtual_18MAR2023(quintas e herdades).csv', delimiter=';')\n",
    "quintas_herdades_18mar23 = quintas_herdades_18mar23.set_index('Unnamed: 0')\n",
    "terrenos_18mar23 = pd.read_csv('imovirtual_18MAR2023(terrenos).csv', delimiter=';')\n",
    "terrenos_18mar23 = terrenos_18mar23.set_index('Unnamed: 0')"
   ]
  },
  {
   "cell_type": "code",
   "execution_count": 3,
   "metadata": {},
   "outputs": [
    {
     "data": {
      "text/plain": [
       "Index(['Tipo', 'Titulo', 'Preço', 'Condição', 'Quartos', 'WC', 'Dimensão m2',\n",
       "       'Terreno m2', 'Localidade', 'Link', 'Data'],\n",
       "      dtype='object')"
      ]
     },
     "execution_count": 3,
     "metadata": {},
     "output_type": "execute_result"
    }
   ],
   "source": [
    "apartamentos_18mar23.columns"
   ]
  },
  {
   "cell_type": "code",
   "execution_count": 4,
   "metadata": {},
   "outputs": [
    {
     "data": {
      "text/plain": [
       "Index(['Tipo', 'Titulo', 'Preço', 'Condição', 'Quartos', 'WC', 'Dimensão m2',\n",
       "       'Terreno m2', 'Localidade', 'Link', 'Data'],\n",
       "      dtype='object')"
      ]
     },
     "execution_count": 4,
     "metadata": {},
     "output_type": "execute_result"
    }
   ],
   "source": [
    "quintas_herdades_18mar23.columns"
   ]
  },
  {
   "attachments": {},
   "cell_type": "markdown",
   "metadata": {},
   "source": [
    "#### Merge all except terrenos (has diferente structure)"
   ]
  },
  {
   "cell_type": "code",
   "execution_count": 5,
   "metadata": {},
   "outputs": [],
   "source": [
    "todos = pd.concat([apartamentos_2out22,moradias_2out22,quintas_herdades_2out22, moradias_5nov22,quintas_herdades_5nov22, moradias_18mar23, apartamentos_18mar23,quintas_herdades_18mar23], axis=0) "
   ]
  },
  {
   "attachments": {},
   "cell_type": "markdown",
   "metadata": {},
   "source": [
    "### Treatment"
   ]
  },
  {
   "attachments": {},
   "cell_type": "markdown",
   "metadata": {},
   "source": [
    "#### Remove 'm²' and '€/m²' from Dimensão m2"
   ]
  },
  {
   "cell_type": "code",
   "execution_count": 6,
   "metadata": {},
   "outputs": [],
   "source": [
    "# Assume the original dataframe is called 'todos'\n",
    "# Create a copy of the dataframe to avoid modifying the original data\n",
    "#todos_copy = todos.copy()\n",
    "\n",
    "# Define a function to clean the 'Dimensão m2' column\n",
    "def clean_dimensoes(row):\n",
    "    value = row['Dimensão m2']\n",
    "    if type(value) is int or type(value) is float:\n",
    "        return value\n",
    "        # Check if the value has 'm²' or '€/m²'\n",
    "    elif '€/m²' in value:\n",
    "        # Get the value of the corresponding row in the 'Terreno m2' column\n",
    "        terreno_m2_value = row['Terreno m2']\n",
    "        # Remove 'm²' and any spaces from the \n",
    "        if (type(terreno_m2_value) is not int and type(terreno_m2_value) is not float) and ('m²' in terreno_m2_value):\n",
    "            terreno_m2_value = terreno_m2_value.replace('m²', '')#.strip()\n",
    "        # Return the cleaned 'Terreno m2' value\n",
    "        return terreno_m2_value\n",
    "    elif 'm²' in value:\n",
    "        # Remove 'm²' and any spaces from the value\n",
    "        return value.replace('m²', '')#.strip()\n",
    "    \n",
    "# Apply the 'clean_dimensoes' function to the 'Dimensão m2' column\n",
    "todos['Dimensão m2'] = todos.apply(clean_dimensoes, axis=1)\n",
    "\n"
   ]
  },
  {
   "attachments": {},
   "cell_type": "markdown",
   "metadata": {},
   "source": [
    "#### Remove T from quartos"
   ]
  },
  {
   "cell_type": "code",
   "execution_count": 7,
   "metadata": {},
   "outputs": [],
   "source": [
    "todos['Quartos'] = todos['Quartos'].str.replace('T', '')"
   ]
  },
  {
   "attachments": {},
   "cell_type": "markdown",
   "metadata": {},
   "source": [
    "#### Remove spaces from Preço"
   ]
  },
  {
   "cell_type": "code",
   "execution_count": 8,
   "metadata": {},
   "outputs": [],
   "source": [
    "todos['Preço'] = todos['Preço'].str.replace(' ', '')"
   ]
  },
  {
   "attachments": {},
   "cell_type": "markdown",
   "metadata": {},
   "source": [
    "#### Drop of features"
   ]
  },
  {
   "cell_type": "code",
   "execution_count": 10,
   "metadata": {},
   "outputs": [],
   "source": [
    "todos = todos.drop('Terreno m2', axis=1)"
   ]
  },
  {
   "attachments": {},
   "cell_type": "markdown",
   "metadata": {},
   "source": [
    "#### Treatment of strange values in Condição and WC"
   ]
  },
  {
   "cell_type": "code",
   "execution_count": 11,
   "metadata": {},
   "outputs": [],
   "source": [
    "todos['Condição'] = todos['Condição'].replace('[]', pd.NA)\n",
    "todos['WC'] = todos['WC'].replace('[]', pd.NA)"
   ]
  },
  {
   "attachments": {},
   "cell_type": "markdown",
   "metadata": {},
   "source": [
    "#### Change types"
   ]
  },
  {
   "cell_type": "code",
   "execution_count": 12,
   "metadata": {},
   "outputs": [],
   "source": [
    "\n",
    "todos['Preço'] = pd.to_numeric(todos['Preço'], errors='coerce').fillna(-99).astype(int)\n",
    "todos['Quartos'] = pd.to_numeric(todos['Quartos'], errors='coerce').fillna(-99).astype(int)\n",
    "todos['WC'] = pd.to_numeric(todos['WC'], errors='coerce').fillna(-99).astype(int)\n",
    "todos['Dimensão m2'] = pd.to_numeric(todos['Dimensão m2'], errors='coerce').fillna(-99).astype(float)"
   ]
  },
  {
   "attachments": {},
   "cell_type": "markdown",
   "metadata": {},
   "source": [
    "#### Variável Tipos"
   ]
  },
  {
   "cell_type": "code",
   "execution_count": 13,
   "metadata": {},
   "outputs": [],
   "source": [
    "# create new column with standardized values\n",
    "todos['Tipo'] = todos['Tipo'].str.replace(' para comprar:', '').str.strip()"
   ]
  },
  {
   "cell_type": "code",
   "execution_count": 14,
   "metadata": {},
   "outputs": [],
   "source": [
    "le = LabelEncoder()\n",
    "todos['Tipo_id'] = le.fit_transform(todos['Tipo'])"
   ]
  },
  {
   "attachments": {},
   "cell_type": "markdown",
   "metadata": {},
   "source": [
    "#### Remove -99 nulls"
   ]
  },
  {
   "cell_type": "code",
   "execution_count": 15,
   "metadata": {},
   "outputs": [],
   "source": [
    "#todos.replace(-99,pd.NA)\n",
    "todos['Preço'].replace(-99, np.nan, inplace=True)\n",
    "todos['Quartos'].replace(-99, np.nan, inplace=True)\n",
    "todos['WC'].replace(-99, np.nan, inplace=True)\n",
    "todos['Dimensão m2'].replace(-99, np.nan, inplace=True)"
   ]
  },
  {
   "attachments": {},
   "cell_type": "markdown",
   "metadata": {},
   "source": [
    "#### Remove properties with negative price and value 1"
   ]
  },
  {
   "cell_type": "code",
   "execution_count": 16,
   "metadata": {},
   "outputs": [
    {
     "data": {
      "text/html": [
       "<div>\n",
       "<style scoped>\n",
       "    .dataframe tbody tr th:only-of-type {\n",
       "        vertical-align: middle;\n",
       "    }\n",
       "\n",
       "    .dataframe tbody tr th {\n",
       "        vertical-align: top;\n",
       "    }\n",
       "\n",
       "    .dataframe thead th {\n",
       "        text-align: right;\n",
       "    }\n",
       "</style>\n",
       "<table border=\"1\" class=\"dataframe\">\n",
       "  <thead>\n",
       "    <tr style=\"text-align: right;\">\n",
       "      <th></th>\n",
       "      <th>Tipo</th>\n",
       "      <th>Titulo</th>\n",
       "      <th>Preço</th>\n",
       "      <th>Condição</th>\n",
       "      <th>Quartos</th>\n",
       "      <th>WC</th>\n",
       "      <th>Dimensão m2</th>\n",
       "      <th>Link</th>\n",
       "      <th>Data</th>\n",
       "      <th>Cidade</th>\n",
       "      <th>Tipo_id</th>\n",
       "    </tr>\n",
       "  </thead>\n",
       "  <tbody>\n",
       "    <tr>\n",
       "      <th>23287</th>\n",
       "      <td>Moradia</td>\n",
       "      <td>Fantástica moradia nova pronta a habitar</td>\n",
       "      <td>1.000000e+00</td>\n",
       "      <td>Novo</td>\n",
       "      <td>4.0</td>\n",
       "      <td>3.0</td>\n",
       "      <td>190.0</td>\n",
       "      <td>https://www.imovirtual.com/pt/anuncio/fantasti...</td>\n",
       "      <td>2022-10-02</td>\n",
       "      <td>Leiria</td>\n",
       "      <td>1</td>\n",
       "    </tr>\n",
       "    <tr>\n",
       "      <th>43697</th>\n",
       "      <td>Moradia</td>\n",
       "      <td>Moradia de Luxo na encosta do Bom Jesus pronta...</td>\n",
       "      <td>1.000000e+00</td>\n",
       "      <td>Renovado</td>\n",
       "      <td>4.0</td>\n",
       "      <td>NaN</td>\n",
       "      <td>670.0</td>\n",
       "      <td>https://www.imovirtual.com/pt/anuncio/moradia-...</td>\n",
       "      <td>2022-10-02</td>\n",
       "      <td>Braga</td>\n",
       "      <td>1</td>\n",
       "    </tr>\n",
       "    <tr>\n",
       "      <th>165</th>\n",
       "      <td>Moradia</td>\n",
       "      <td>Moradia Isolada T3 Venda em Joane,Vila Nova de...</td>\n",
       "      <td>1.000000e+00</td>\n",
       "      <td>Em construção</td>\n",
       "      <td>3.0</td>\n",
       "      <td>3.0</td>\n",
       "      <td>380.0</td>\n",
       "      <td>https://www.imovirtual.com/pt/anuncio/moradia-...</td>\n",
       "      <td>2022-11-06</td>\n",
       "      <td>Braga</td>\n",
       "      <td>1</td>\n",
       "    </tr>\n",
       "    <tr>\n",
       "      <th>19948</th>\n",
       "      <td>Moradia</td>\n",
       "      <td>Fantástica moradia T3+1 com piscina!</td>\n",
       "      <td>1.000000e+00</td>\n",
       "      <td>Usado</td>\n",
       "      <td>3.0</td>\n",
       "      <td>3.0</td>\n",
       "      <td>236.0</td>\n",
       "      <td>https://www.imovirtual.com/pt/anuncio/fantasti...</td>\n",
       "      <td>2023-03-18</td>\n",
       "      <td>Braga</td>\n",
       "      <td>1</td>\n",
       "    </tr>\n",
       "    <tr>\n",
       "      <th>70697</th>\n",
       "      <td>Apartamento</td>\n",
       "      <td>Apartamento T3 Multiusos</td>\n",
       "      <td>1.000000e+00</td>\n",
       "      <td>&lt;NA&gt;</td>\n",
       "      <td>3.0</td>\n",
       "      <td>NaN</td>\n",
       "      <td>154.0</td>\n",
       "      <td>https://www.imovirtual.com/pt/anuncio/apartame...</td>\n",
       "      <td>2023-03-18</td>\n",
       "      <td>Braga</td>\n",
       "      <td>0</td>\n",
       "    </tr>\n",
       "    <tr>\n",
       "      <th>79846</th>\n",
       "      <td>Apartamento</td>\n",
       "      <td>Apartamento T2+1 frente ao mar em Buarcos</td>\n",
       "      <td>-2.147484e+09</td>\n",
       "      <td>Renovado</td>\n",
       "      <td>2.0</td>\n",
       "      <td>1.0</td>\n",
       "      <td>222.0</td>\n",
       "      <td>https://www.imovirtual.com/pt/anuncio/apartame...</td>\n",
       "      <td>2023-03-18</td>\n",
       "      <td>Coimbra</td>\n",
       "      <td>0</td>\n",
       "    </tr>\n",
       "  </tbody>\n",
       "</table>\n",
       "</div>"
      ],
      "text/plain": [
       "              Tipo                                             Titulo  \\\n",
       "23287      Moradia           Fantástica moradia nova pronta a habitar   \n",
       "43697      Moradia  Moradia de Luxo na encosta do Bom Jesus pronta...   \n",
       "165        Moradia  Moradia Isolada T3 Venda em Joane,Vila Nova de...   \n",
       "19948      Moradia               Fantástica moradia T3+1 com piscina!   \n",
       "70697  Apartamento                           Apartamento T3 Multiusos   \n",
       "79846  Apartamento          Apartamento T2+1 frente ao mar em Buarcos   \n",
       "\n",
       "              Preço       Condição  Quartos   WC  Dimensão m2  \\\n",
       "23287  1.000000e+00           Novo      4.0  3.0        190.0   \n",
       "43697  1.000000e+00       Renovado      4.0  NaN        670.0   \n",
       "165    1.000000e+00  Em construção      3.0  3.0        380.0   \n",
       "19948  1.000000e+00          Usado      3.0  3.0        236.0   \n",
       "70697  1.000000e+00           <NA>      3.0  NaN        154.0   \n",
       "79846 -2.147484e+09       Renovado      2.0  1.0        222.0   \n",
       "\n",
       "                                                    Link        Data   Cidade  \\\n",
       "23287  https://www.imovirtual.com/pt/anuncio/fantasti...  2022-10-02   Leiria   \n",
       "43697  https://www.imovirtual.com/pt/anuncio/moradia-...  2022-10-02    Braga   \n",
       "165    https://www.imovirtual.com/pt/anuncio/moradia-...  2022-11-06    Braga   \n",
       "19948  https://www.imovirtual.com/pt/anuncio/fantasti...  2023-03-18    Braga   \n",
       "70697  https://www.imovirtual.com/pt/anuncio/apartame...  2023-03-18    Braga   \n",
       "79846  https://www.imovirtual.com/pt/anuncio/apartame...  2023-03-18  Coimbra   \n",
       "\n",
       "       Tipo_id  \n",
       "23287        1  \n",
       "43697        1  \n",
       "165          1  \n",
       "19948        1  \n",
       "70697        0  \n",
       "79846        0  "
      ]
     },
     "execution_count": 16,
     "metadata": {},
     "output_type": "execute_result"
    }
   ],
   "source": [
    "todos[todos['Preço']<=1]"
   ]
  },
  {
   "cell_type": "code",
   "execution_count": 17,
   "metadata": {},
   "outputs": [],
   "source": [
    "todos = todos[todos['Preço'] > 1]"
   ]
  },
  {
   "cell_type": "code",
   "execution_count": 18,
   "metadata": {},
   "outputs": [
    {
     "data": {
      "text/html": [
       "<div>\n",
       "<style scoped>\n",
       "    .dataframe tbody tr th:only-of-type {\n",
       "        vertical-align: middle;\n",
       "    }\n",
       "\n",
       "    .dataframe tbody tr th {\n",
       "        vertical-align: top;\n",
       "    }\n",
       "\n",
       "    .dataframe thead th {\n",
       "        text-align: right;\n",
       "    }\n",
       "</style>\n",
       "<table border=\"1\" class=\"dataframe\">\n",
       "  <thead>\n",
       "    <tr style=\"text-align: right;\">\n",
       "      <th></th>\n",
       "      <th>Tipo</th>\n",
       "      <th>Titulo</th>\n",
       "      <th>Preço</th>\n",
       "      <th>Condição</th>\n",
       "      <th>Quartos</th>\n",
       "      <th>WC</th>\n",
       "      <th>Dimensão m2</th>\n",
       "      <th>Link</th>\n",
       "      <th>Data</th>\n",
       "      <th>Cidade</th>\n",
       "      <th>Tipo_id</th>\n",
       "    </tr>\n",
       "  </thead>\n",
       "  <tbody>\n",
       "  </tbody>\n",
       "</table>\n",
       "</div>"
      ],
      "text/plain": [
       "Empty DataFrame\n",
       "Columns: [Tipo, Titulo, Preço, Condição, Quartos, WC, Dimensão m2, Link, Data, Cidade, Tipo_id]\n",
       "Index: []"
      ]
     },
     "execution_count": 18,
     "metadata": {},
     "output_type": "execute_result"
    }
   ],
   "source": [
    "todos[todos['Preço']<=1]"
   ]
  },
  {
   "attachments": {},
   "cell_type": "markdown",
   "metadata": {},
   "source": [
    "####  Treat Cidades"
   ]
  },
  {
   "cell_type": "code",
   "execution_count": 19,
   "metadata": {},
   "outputs": [
    {
     "data": {
      "text/plain": [
       "array(['Lisboa', 'Porto', 'Santarém', 'Faro', 'Coimbra', 'Setúbal',\n",
       "       'Aveiro', 'Madeira', 'Braga', 'Castelo', 'Branco', 'Leiria',\n",
       "       'Pico', 'Real', 'Évora', 'Santo', 'Miguel', 'Portalegre', 'Guarda',\n",
       "       'Terceira', 'Viseu', 'Bragança', 'Flores', 'Beja', 'Jorge',\n",
       "       'Maria', 'Faial', 'Graciosa', 'Corvo'], dtype=object)"
      ]
     },
     "execution_count": 19,
     "metadata": {},
     "output_type": "execute_result"
    }
   ],
   "source": [
    "todos['Cidade'].unique()"
   ]
  },
  {
   "cell_type": "code",
   "execution_count": 20,
   "metadata": {},
   "outputs": [],
   "source": [
    "todos['Cidade']=todos['Cidade'].replace('Castelo','Viana do Castelo')\n",
    "todos['Cidade']=todos['Cidade'].replace('Branco','Castelo Branco')\n",
    "todos['Cidade']=todos['Cidade'].replace('Jorge','São Jorge')\n",
    "todos['Cidade']=todos['Cidade'].replace('Real','Vila Real')"
   ]
  },
  {
   "cell_type": "code",
   "execution_count": 21,
   "metadata": {},
   "outputs": [
    {
     "data": {
      "text/plain": [
       "array(['Lisboa', 'Porto', 'Santarém', 'Faro', 'Coimbra', 'Setúbal',\n",
       "       'Aveiro', 'Madeira', 'Braga', 'Viana do Castelo', 'Castelo Branco',\n",
       "       'Leiria', 'Pico', 'Vila Real', 'Évora', 'Santo', 'Miguel',\n",
       "       'Portalegre', 'Guarda', 'Terceira', 'Viseu', 'Bragança', 'Flores',\n",
       "       'Beja', 'São Jorge', 'Maria', 'Faial', 'Graciosa', 'Corvo'],\n",
       "      dtype=object)"
      ]
     },
     "execution_count": 21,
     "metadata": {},
     "output_type": "execute_result"
    }
   ],
   "source": [
    "todos['Cidade'].unique()"
   ]
  },
  {
   "attachments": {},
   "cell_type": "markdown",
   "metadata": {},
   "source": [
    "### Freguesias, Concelhos e Distritos"
   ]
  },
  {
   "cell_type": "code",
   "execution_count": null,
   "metadata": {},
   "outputs": [],
   "source": [
    "# Define a function to split the Localidade column\n",
    "def split_localidade(localidade):\n",
    "    if localidade.count(',') == 2:\n",
    "        freguesia = localidade.split(',')[0].strip()\n",
    "        concelho = localidade.split(',')[1].strip()\n",
    "        distrito = localidade.split(',')[2].strip()\n",
    "\n",
    "    elif localidade.count(',') == 1:\n",
    "        freguesia = localidade.split(',')[0].strip()\n",
    "        concelho = localidade.split(',')[0].strip()\n",
    "        distrito = localidade.split(',')[1].strip()\n",
    "\n",
    "    elif localidade.count(',') == 0:\n",
    "        freguesia = localidade.strip()\n",
    "        concelho = localidade.strip()\n",
    "        distrito = localidade.strip()\n",
    "\n",
    "    elif localidade.count(',') >= 3:\n",
    "      freguesia = localidade.rsplit(',', 2)[0].strip()\n",
    "      concelho = localidade.rsplit(',', 2)[1].strip()\n",
    "      distrito = localidade.rsplit(',', 2)[2].strip()\n",
    "\n",
    "    return pd.Series([freguesia, concelho, distrito], index=['Freguesia', 'Concelho', 'Distrito'])"
   ]
  },
  {
   "cell_type": "code",
   "execution_count": null,
   "metadata": {},
   "outputs": [],
   "source": [
    "# Apply the function to the 'Localidade' column of the dataframe\n",
    "todos[['Freguesia', 'Concelho', 'Distrito']] = todos['Localidade'].apply(split_localidade)"
   ]
  },
  {
   "attachments": {},
   "cell_type": "markdown",
   "metadata": {},
   "source": [
    "### Save"
   ]
  },
  {
   "cell_type": "code",
   "execution_count": 22,
   "metadata": {},
   "outputs": [],
   "source": [
    "todos.to_csv('dataset_final.csv', index=False)"
   ]
  },
  {
   "cell_type": "code",
   "execution_count": null,
   "metadata": {},
   "outputs": [],
   "source": [
    "todos.to_excel('dataset_final.xlsx', index=False)"
   ]
  }
 ],
 "metadata": {
  "kernelspec": {
   "display_name": "base",
   "language": "python",
   "name": "python3"
  },
  "language_info": {
   "codemirror_mode": {
    "name": "ipython",
    "version": 3
   },
   "file_extension": ".py",
   "mimetype": "text/x-python",
   "name": "python",
   "nbconvert_exporter": "python",
   "pygments_lexer": "ipython3",
   "version": "3.9.12"
  },
  "orig_nbformat": 4
 },
 "nbformat": 4,
 "nbformat_minor": 2
}
